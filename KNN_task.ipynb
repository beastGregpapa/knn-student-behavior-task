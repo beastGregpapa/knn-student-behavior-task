{
  "cells": [
    {
      "cell_type": "markdown",
      "metadata": {
        "id": "ficrlRODfulM"
      },
      "source": [
        "### Часть 1: Исследуем данные\n",
        "Загрузим данные из файла Student_Behaviour.csv. Выведите первые 5 строк таблицы."
      ]
    },
    {
      "cell_type": "code",
      "execution_count": null,
      "metadata": {
        "id": "y9_wGmIJfulM"
      },
      "outputs": [],
      "source": [
        "import pandas as pd\n",
        "import numpy as np\n",
        "\n",
        "df = pd.read_csv('https://raw.githubusercontent.com/V-Marco/public_intro_to_DS_mba_hse/main/HW/HW5/Student_Behaviour.csv')"
      ]
    },
    {
      "cell_type": "code",
      "source": [
        "df.head()"
      ],
      "metadata": {
        "colab": {
          "base_uri": "https://localhost:8080/",
          "height": 319
        },
        "id": "7ppc07xluRYL",
        "outputId": "e2f2ef76-b2a9-40f8-9c7d-1c86f21c49c9"
      },
      "execution_count": null,
      "outputs": [
        {
          "output_type": "execute_result",
          "data": {
            "text/plain": [
              "  CertificationCourses  Gender Department  Height(CM)  Weight(KG)  10Mark  \\\n",
              "0                   No    Male        BCA       100.0        58.0    79.0   \n",
              "1                   No  Female        BCA        90.0        40.0    70.0   \n",
              "2                  Yes    Male        BCA       159.0        78.0    69.5   \n",
              "3                  Yes  Female        BCA       147.0        20.0    70.0   \n",
              "4                   No    Male        BCA       170.0        54.0    40.0   \n",
              "\n",
              "   12Mark  CollegeMark        Hobbies DailyStudingTime PreferToStudyIn  \\\n",
              "0    65.0         80.0    Video Games    0 - 30 minute         Morning   \n",
              "1    80.0         70.0         Cinema   30 - 60 minute         Morning   \n",
              "2    61.0         55.0         Cinema       1 - 2 Hour         Anytime   \n",
              "3    59.0         58.0  Reading books       1 - 2 Hour         Anytime   \n",
              "4    65.0         30.0    Video Games   30 - 60 minute         Morning   \n",
              "\n",
              "   SalaryExpectation LikeDegree CareerBasedonDegree GamesSpendingTime  \\\n",
              "0              40000         No                 50%     1.30 - 2 hour   \n",
              "1              15000        Yes                 75%     1 - 1.30 hour   \n",
              "2              13000        Yes                 50%  More than 2 hour   \n",
              "3            1500000         No                 50%     1.30 - 2 hour   \n",
              "4              50000        Yes                 25%     1.30 - 2 hour   \n",
              "\n",
              "   TravellingTime  StressLevel  FinancialStatus PartTimeJob?  \n",
              "0  30 - 60 minutes          Bad             Bad           No  \n",
              "1   0 - 30 minutes          Bad             Bad           No  \n",
              "2  30 - 60 minutes        Awful             Bad           No  \n",
              "3   0 - 30 minutes          Bad            good           No  \n",
              "4  30 - 60 minutes         Good            good           No  "
            ],
            "text/html": [
              "\n",
              "  <div id=\"df-0dc61d30-1d8a-4b40-a16d-329ba65fca33\">\n",
              "    <div class=\"colab-df-container\">\n",
              "      <div>\n",
              "<style scoped>\n",
              "    .dataframe tbody tr th:only-of-type {\n",
              "        vertical-align: middle;\n",
              "    }\n",
              "\n",
              "    .dataframe tbody tr th {\n",
              "        vertical-align: top;\n",
              "    }\n",
              "\n",
              "    .dataframe thead th {\n",
              "        text-align: right;\n",
              "    }\n",
              "</style>\n",
              "<table border=\"1\" class=\"dataframe\">\n",
              "  <thead>\n",
              "    <tr style=\"text-align: right;\">\n",
              "      <th></th>\n",
              "      <th>CertificationCourses</th>\n",
              "      <th>Gender</th>\n",
              "      <th>Department</th>\n",
              "      <th>Height(CM)</th>\n",
              "      <th>Weight(KG)</th>\n",
              "      <th>10Mark</th>\n",
              "      <th>12Mark</th>\n",
              "      <th>CollegeMark</th>\n",
              "      <th>Hobbies</th>\n",
              "      <th>DailyStudingTime</th>\n",
              "      <th>PreferToStudyIn</th>\n",
              "      <th>SalaryExpectation</th>\n",
              "      <th>LikeDegree</th>\n",
              "      <th>CareerBasedonDegree</th>\n",
              "      <th>GamesSpendingTime</th>\n",
              "      <th>TravellingTime</th>\n",
              "      <th>StressLevel</th>\n",
              "      <th>FinancialStatus</th>\n",
              "      <th>PartTimeJob?</th>\n",
              "    </tr>\n",
              "  </thead>\n",
              "  <tbody>\n",
              "    <tr>\n",
              "      <th>0</th>\n",
              "      <td>No</td>\n",
              "      <td>Male</td>\n",
              "      <td>BCA</td>\n",
              "      <td>100.0</td>\n",
              "      <td>58.0</td>\n",
              "      <td>79.0</td>\n",
              "      <td>65.0</td>\n",
              "      <td>80.0</td>\n",
              "      <td>Video Games</td>\n",
              "      <td>0 - 30 minute</td>\n",
              "      <td>Morning</td>\n",
              "      <td>40000</td>\n",
              "      <td>No</td>\n",
              "      <td>50%</td>\n",
              "      <td>1.30 - 2 hour</td>\n",
              "      <td>30 - 60 minutes</td>\n",
              "      <td>Bad</td>\n",
              "      <td>Bad</td>\n",
              "      <td>No</td>\n",
              "    </tr>\n",
              "    <tr>\n",
              "      <th>1</th>\n",
              "      <td>No</td>\n",
              "      <td>Female</td>\n",
              "      <td>BCA</td>\n",
              "      <td>90.0</td>\n",
              "      <td>40.0</td>\n",
              "      <td>70.0</td>\n",
              "      <td>80.0</td>\n",
              "      <td>70.0</td>\n",
              "      <td>Cinema</td>\n",
              "      <td>30 - 60 minute</td>\n",
              "      <td>Morning</td>\n",
              "      <td>15000</td>\n",
              "      <td>Yes</td>\n",
              "      <td>75%</td>\n",
              "      <td>1 - 1.30 hour</td>\n",
              "      <td>0 - 30 minutes</td>\n",
              "      <td>Bad</td>\n",
              "      <td>Bad</td>\n",
              "      <td>No</td>\n",
              "    </tr>\n",
              "    <tr>\n",
              "      <th>2</th>\n",
              "      <td>Yes</td>\n",
              "      <td>Male</td>\n",
              "      <td>BCA</td>\n",
              "      <td>159.0</td>\n",
              "      <td>78.0</td>\n",
              "      <td>69.5</td>\n",
              "      <td>61.0</td>\n",
              "      <td>55.0</td>\n",
              "      <td>Cinema</td>\n",
              "      <td>1 - 2 Hour</td>\n",
              "      <td>Anytime</td>\n",
              "      <td>13000</td>\n",
              "      <td>Yes</td>\n",
              "      <td>50%</td>\n",
              "      <td>More than 2 hour</td>\n",
              "      <td>30 - 60 minutes</td>\n",
              "      <td>Awful</td>\n",
              "      <td>Bad</td>\n",
              "      <td>No</td>\n",
              "    </tr>\n",
              "    <tr>\n",
              "      <th>3</th>\n",
              "      <td>Yes</td>\n",
              "      <td>Female</td>\n",
              "      <td>BCA</td>\n",
              "      <td>147.0</td>\n",
              "      <td>20.0</td>\n",
              "      <td>70.0</td>\n",
              "      <td>59.0</td>\n",
              "      <td>58.0</td>\n",
              "      <td>Reading books</td>\n",
              "      <td>1 - 2 Hour</td>\n",
              "      <td>Anytime</td>\n",
              "      <td>1500000</td>\n",
              "      <td>No</td>\n",
              "      <td>50%</td>\n",
              "      <td>1.30 - 2 hour</td>\n",
              "      <td>0 - 30 minutes</td>\n",
              "      <td>Bad</td>\n",
              "      <td>good</td>\n",
              "      <td>No</td>\n",
              "    </tr>\n",
              "    <tr>\n",
              "      <th>4</th>\n",
              "      <td>No</td>\n",
              "      <td>Male</td>\n",
              "      <td>BCA</td>\n",
              "      <td>170.0</td>\n",
              "      <td>54.0</td>\n",
              "      <td>40.0</td>\n",
              "      <td>65.0</td>\n",
              "      <td>30.0</td>\n",
              "      <td>Video Games</td>\n",
              "      <td>30 - 60 minute</td>\n",
              "      <td>Morning</td>\n",
              "      <td>50000</td>\n",
              "      <td>Yes</td>\n",
              "      <td>25%</td>\n",
              "      <td>1.30 - 2 hour</td>\n",
              "      <td>30 - 60 minutes</td>\n",
              "      <td>Good</td>\n",
              "      <td>good</td>\n",
              "      <td>No</td>\n",
              "    </tr>\n",
              "  </tbody>\n",
              "</table>\n",
              "</div>\n",
              "      <button class=\"colab-df-convert\" onclick=\"convertToInteractive('df-0dc61d30-1d8a-4b40-a16d-329ba65fca33')\"\n",
              "              title=\"Convert this dataframe to an interactive table.\"\n",
              "              style=\"display:none;\">\n",
              "        \n",
              "  <svg xmlns=\"http://www.w3.org/2000/svg\" height=\"24px\"viewBox=\"0 0 24 24\"\n",
              "       width=\"24px\">\n",
              "    <path d=\"M0 0h24v24H0V0z\" fill=\"none\"/>\n",
              "    <path d=\"M18.56 5.44l.94 2.06.94-2.06 2.06-.94-2.06-.94-.94-2.06-.94 2.06-2.06.94zm-11 1L8.5 8.5l.94-2.06 2.06-.94-2.06-.94L8.5 2.5l-.94 2.06-2.06.94zm10 10l.94 2.06.94-2.06 2.06-.94-2.06-.94-.94-2.06-.94 2.06-2.06.94z\"/><path d=\"M17.41 7.96l-1.37-1.37c-.4-.4-.92-.59-1.43-.59-.52 0-1.04.2-1.43.59L10.3 9.45l-7.72 7.72c-.78.78-.78 2.05 0 2.83L4 21.41c.39.39.9.59 1.41.59.51 0 1.02-.2 1.41-.59l7.78-7.78 2.81-2.81c.8-.78.8-2.07 0-2.86zM5.41 20L4 18.59l7.72-7.72 1.47 1.35L5.41 20z\"/>\n",
              "  </svg>\n",
              "      </button>\n",
              "      \n",
              "  <style>\n",
              "    .colab-df-container {\n",
              "      display:flex;\n",
              "      flex-wrap:wrap;\n",
              "      gap: 12px;\n",
              "    }\n",
              "\n",
              "    .colab-df-convert {\n",
              "      background-color: #E8F0FE;\n",
              "      border: none;\n",
              "      border-radius: 50%;\n",
              "      cursor: pointer;\n",
              "      display: none;\n",
              "      fill: #1967D2;\n",
              "      height: 32px;\n",
              "      padding: 0 0 0 0;\n",
              "      width: 32px;\n",
              "    }\n",
              "\n",
              "    .colab-df-convert:hover {\n",
              "      background-color: #E2EBFA;\n",
              "      box-shadow: 0px 1px 2px rgba(60, 64, 67, 0.3), 0px 1px 3px 1px rgba(60, 64, 67, 0.15);\n",
              "      fill: #174EA6;\n",
              "    }\n",
              "\n",
              "    [theme=dark] .colab-df-convert {\n",
              "      background-color: #3B4455;\n",
              "      fill: #D2E3FC;\n",
              "    }\n",
              "\n",
              "    [theme=dark] .colab-df-convert:hover {\n",
              "      background-color: #434B5C;\n",
              "      box-shadow: 0px 1px 3px 1px rgba(0, 0, 0, 0.15);\n",
              "      filter: drop-shadow(0px 1px 2px rgba(0, 0, 0, 0.3));\n",
              "      fill: #FFFFFF;\n",
              "    }\n",
              "  </style>\n",
              "\n",
              "      <script>\n",
              "        const buttonEl =\n",
              "          document.querySelector('#df-0dc61d30-1d8a-4b40-a16d-329ba65fca33 button.colab-df-convert');\n",
              "        buttonEl.style.display =\n",
              "          google.colab.kernel.accessAllowed ? 'block' : 'none';\n",
              "\n",
              "        async function convertToInteractive(key) {\n",
              "          const element = document.querySelector('#df-0dc61d30-1d8a-4b40-a16d-329ba65fca33');\n",
              "          const dataTable =\n",
              "            await google.colab.kernel.invokeFunction('convertToInteractive',\n",
              "                                                     [key], {});\n",
              "          if (!dataTable) return;\n",
              "\n",
              "          const docLinkHtml = 'Like what you see? Visit the ' +\n",
              "            '<a target=\"_blank\" href=https://colab.research.google.com/notebooks/data_table.ipynb>data table notebook</a>'\n",
              "            + ' to learn more about interactive tables.';\n",
              "          element.innerHTML = '';\n",
              "          dataTable['output_type'] = 'display_data';\n",
              "          await google.colab.output.renderOutput(dataTable, element);\n",
              "          const docLink = document.createElement('div');\n",
              "          docLink.innerHTML = docLinkHtml;\n",
              "          element.appendChild(docLink);\n",
              "        }\n",
              "      </script>\n",
              "    </div>\n",
              "  </div>\n",
              "  "
            ]
          },
          "metadata": {},
          "execution_count": 685
        }
      ]
    },
    {
      "cell_type": "markdown",
      "metadata": {
        "id": "pvYfhT-qfulN"
      },
      "source": [
        "Проверьте колонки на наличие пропусков, избавьтесь их. "
      ]
    },
    {
      "cell_type": "markdown",
      "source": [
        "Увидим, что пропуски в признаках отсутствуют, так как суммарно имеется по 235 записи."
      ],
      "metadata": {
        "id": "-_-BCjYDgDZX"
      }
    },
    {
      "cell_type": "code",
      "execution_count": null,
      "metadata": {
        "id": "76xqEYPCfulO",
        "colab": {
          "base_uri": "https://localhost:8080/"
        },
        "outputId": "8aa08455-42ec-413e-aa4c-95d642aaefdd"
      },
      "outputs": [
        {
          "output_type": "stream",
          "name": "stdout",
          "text": [
            "<class 'pandas.core.frame.DataFrame'>\n",
            "RangeIndex: 235 entries, 0 to 234\n",
            "Data columns (total 19 columns):\n",
            " #   Column                Non-Null Count  Dtype  \n",
            "---  ------                --------------  -----  \n",
            " 0   CertificationCourses  235 non-null    object \n",
            " 1   Gender                235 non-null    object \n",
            " 2   Department            235 non-null    object \n",
            " 3   Height(CM)            235 non-null    float64\n",
            " 4   Weight(KG)            235 non-null    float64\n",
            " 5   10Mark                235 non-null    float64\n",
            " 6   12Mark                235 non-null    float64\n",
            " 7   CollegeMark           235 non-null    float64\n",
            " 8   Hobbies               235 non-null    object \n",
            " 9   DailyStudingTime      235 non-null    object \n",
            " 10  PreferToStudyIn       235 non-null    object \n",
            " 11  SalaryExpectation     235 non-null    int64  \n",
            " 12  LikeDegree            235 non-null    object \n",
            " 13  CareerBasedonDegree   235 non-null    object \n",
            " 14  GamesSpendingTime     235 non-null    object \n",
            " 15  TravellingTime        235 non-null    object \n",
            " 16  StressLevel           235 non-null    object \n",
            " 17  FinancialStatus       235 non-null    object \n",
            " 18  PartTimeJob?          235 non-null    object \n",
            "dtypes: float64(5), int64(1), object(13)\n",
            "memory usage: 35.0+ KB\n"
          ]
        }
      ],
      "source": [
        "df.info()\n",
        "# достаточно посмотреть на кол-во ненулевых значений в колонке к кол-ву строк в датафрейме, чтобы определить кол-во пропущенных значений в датасете."
      ]
    },
    {
      "cell_type": "code",
      "source": [
        "# кол-во пропущенных значений в каждом столбце\n",
        "display(df.isna().sum())\n",
        "display(df.isna().sum().sum() / (len(df) * len(df.columns)))\n",
        "# общий % пропущенных данных в датасете"
      ],
      "metadata": {
        "colab": {
          "base_uri": "https://localhost:8080/",
          "height": 374
        },
        "id": "S0h4z_sBfadP",
        "outputId": "4dde23e5-dfe2-4e03-9d49-1f1ab4fc6ab9"
      },
      "execution_count": null,
      "outputs": [
        {
          "output_type": "display_data",
          "data": {
            "text/plain": [
              "CertificationCourses    0\n",
              "Gender                  0\n",
              "Department              0\n",
              "Height(CM)              0\n",
              "Weight(KG)              0\n",
              "10Mark                  0\n",
              "12Mark                  0\n",
              "CollegeMark             0\n",
              "Hobbies                 0\n",
              "DailyStudingTime        0\n",
              "PreferToStudyIn         0\n",
              "SalaryExpectation       0\n",
              "LikeDegree              0\n",
              "CareerBasedonDegree     0\n",
              "GamesSpendingTime       0\n",
              "TravellingTime          0\n",
              "StressLevel             0\n",
              "FinancialStatus         0\n",
              "PartTimeJob?            0\n",
              "dtype: int64"
            ]
          },
          "metadata": {}
        },
        {
          "output_type": "display_data",
          "data": {
            "text/plain": [
              "0.0"
            ]
          },
          "metadata": {}
        }
      ]
    },
    {
      "cell_type": "code",
      "source": [
        "df.shape"
      ],
      "metadata": {
        "colab": {
          "base_uri": "https://localhost:8080/"
        },
        "id": "_tSjt_tJ7IYC",
        "outputId": "8f64584f-69d2-4354-f3e8-d26df069bff3"
      },
      "execution_count": null,
      "outputs": [
        {
          "output_type": "execute_result",
          "data": {
            "text/plain": [
              "(235, 19)"
            ]
          },
          "metadata": {},
          "execution_count": 688
        }
      ]
    },
    {
      "cell_type": "code",
      "source": [
        "# удаляем объекты, содержащие NaN'ы\n",
        "# df = df.dropna()\n",
        "# данном датасете нет пропущенных данных"
      ],
      "metadata": {
        "id": "HduQ57VwkdZg"
      },
      "execution_count": null,
      "outputs": []
    },
    {
      "cell_type": "code",
      "source": [
        "### пропущенные значения отсутствуют\n",
        "print(df.isnull().sum().sum())"
      ],
      "metadata": {
        "colab": {
          "base_uri": "https://localhost:8080/"
        },
        "id": "tdgG0KNR7Q_a",
        "outputId": "43c1a502-0ff0-4f54-bfa1-4a31b5d743f1"
      },
      "execution_count": null,
      "outputs": [
        {
          "output_type": "stream",
          "name": "stdout",
          "text": [
            "0\n"
          ]
        }
      ]
    },
    {
      "cell_type": "markdown",
      "metadata": {
        "id": "eGz17qd_fulO"
      },
      "source": [
        "Колонку `CareerBasedonDegree` приведём к числовому виду."
      ]
    },
    {
      "cell_type": "code",
      "source": [
        "df.dtypes"
      ],
      "metadata": {
        "colab": {
          "base_uri": "https://localhost:8080/"
        },
        "id": "5aERvzg9gj6E",
        "outputId": "2d281975-4a25-4176-fc3a-ab68fd50e6e7"
      },
      "execution_count": null,
      "outputs": [
        {
          "output_type": "execute_result",
          "data": {
            "text/plain": [
              "CertificationCourses     object\n",
              "Gender                   object\n",
              "Department               object\n",
              "Height(CM)              float64\n",
              "Weight(KG)              float64\n",
              "10Mark                  float64\n",
              "12Mark                  float64\n",
              "CollegeMark             float64\n",
              "Hobbies                  object\n",
              "DailyStudingTime         object\n",
              "PreferToStudyIn          object\n",
              "SalaryExpectation         int64\n",
              "LikeDegree               object\n",
              "CareerBasedonDegree      object\n",
              "GamesSpendingTime        object\n",
              "TravellingTime           object\n",
              "StressLevel              object\n",
              "FinancialStatus          object\n",
              "PartTimeJob?             object\n",
              "dtype: object"
            ]
          },
          "metadata": {},
          "execution_count": 691
        }
      ]
    },
    {
      "cell_type": "markdown",
      "source": [
        "Интересующая нас колонка имеет тип данных 'object' - нам необходимо её перевести в числовой вид (int8)"
      ],
      "metadata": {
        "id": "BjPEl6XsgsNe"
      }
    },
    {
      "cell_type": "code",
      "source": [
        "# посмотрим на кол-во значений в данной колонке\n",
        "df[\"CareerBasedonDegree\"].value_counts()"
      ],
      "metadata": {
        "colab": {
          "base_uri": "https://localhost:8080/"
        },
        "id": "KtSaqQcTBovr",
        "outputId": "742e48ae-97eb-43a3-9612-fda95679c94e"
      },
      "execution_count": null,
      "outputs": [
        {
          "output_type": "execute_result",
          "data": {
            "text/plain": [
              "75%     114\n",
              "50%      61\n",
              "100%     44\n",
              "25%      14\n",
              "0%        2\n",
              "Name: CareerBasedonDegree, dtype: int64"
            ]
          },
          "metadata": {},
          "execution_count": 692
        }
      ]
    },
    {
      "cell_type": "code",
      "source": [
        "# поменяем тип данных\n",
        "df[\"CareerBasedonDegree\"] = df[\"CareerBasedonDegree\"].astype('category')"
      ],
      "metadata": {
        "id": "6-BPOkxkB9_L"
      },
      "execution_count": null,
      "outputs": []
    },
    {
      "cell_type": "code",
      "source": [
        "df[\"CareerBasedonDegree\"] = df[\"CareerBasedonDegree\"].cat.codes\n",
        "# помощь - https://dfedorov.spb.ru/pandas/Руководство%20по%20кодированию%20категориальных%20значений%20в%20Python.html"
      ],
      "metadata": {
        "id": "XcUxQ5v9CO2G"
      },
      "execution_count": null,
      "outputs": []
    },
    {
      "cell_type": "code",
      "source": [
        "df.head()"
      ],
      "metadata": {
        "colab": {
          "base_uri": "https://localhost:8080/",
          "height": 319
        },
        "id": "rTmUxib-gYOB",
        "outputId": "6cbbaa35-54d8-439e-c7a9-efee6e870bfa"
      },
      "execution_count": null,
      "outputs": [
        {
          "output_type": "execute_result",
          "data": {
            "text/plain": [
              "  CertificationCourses  Gender Department  Height(CM)  Weight(KG)  10Mark  \\\n",
              "0                   No    Male        BCA       100.0        58.0    79.0   \n",
              "1                   No  Female        BCA        90.0        40.0    70.0   \n",
              "2                  Yes    Male        BCA       159.0        78.0    69.5   \n",
              "3                  Yes  Female        BCA       147.0        20.0    70.0   \n",
              "4                   No    Male        BCA       170.0        54.0    40.0   \n",
              "\n",
              "   12Mark  CollegeMark        Hobbies DailyStudingTime PreferToStudyIn  \\\n",
              "0    65.0         80.0    Video Games    0 - 30 minute         Morning   \n",
              "1    80.0         70.0         Cinema   30 - 60 minute         Morning   \n",
              "2    61.0         55.0         Cinema       1 - 2 Hour         Anytime   \n",
              "3    59.0         58.0  Reading books       1 - 2 Hour         Anytime   \n",
              "4    65.0         30.0    Video Games   30 - 60 minute         Morning   \n",
              "\n",
              "   SalaryExpectation LikeDegree  CareerBasedonDegree GamesSpendingTime  \\\n",
              "0              40000         No                    3     1.30 - 2 hour   \n",
              "1              15000        Yes                    4     1 - 1.30 hour   \n",
              "2              13000        Yes                    3  More than 2 hour   \n",
              "3            1500000         No                    3     1.30 - 2 hour   \n",
              "4              50000        Yes                    2     1.30 - 2 hour   \n",
              "\n",
              "   TravellingTime  StressLevel  FinancialStatus PartTimeJob?  \n",
              "0  30 - 60 minutes          Bad             Bad           No  \n",
              "1   0 - 30 minutes          Bad             Bad           No  \n",
              "2  30 - 60 minutes        Awful             Bad           No  \n",
              "3   0 - 30 minutes          Bad            good           No  \n",
              "4  30 - 60 minutes         Good            good           No  "
            ],
            "text/html": [
              "\n",
              "  <div id=\"df-31093777-a317-47cf-8306-48a3bae841ac\">\n",
              "    <div class=\"colab-df-container\">\n",
              "      <div>\n",
              "<style scoped>\n",
              "    .dataframe tbody tr th:only-of-type {\n",
              "        vertical-align: middle;\n",
              "    }\n",
              "\n",
              "    .dataframe tbody tr th {\n",
              "        vertical-align: top;\n",
              "    }\n",
              "\n",
              "    .dataframe thead th {\n",
              "        text-align: right;\n",
              "    }\n",
              "</style>\n",
              "<table border=\"1\" class=\"dataframe\">\n",
              "  <thead>\n",
              "    <tr style=\"text-align: right;\">\n",
              "      <th></th>\n",
              "      <th>CertificationCourses</th>\n",
              "      <th>Gender</th>\n",
              "      <th>Department</th>\n",
              "      <th>Height(CM)</th>\n",
              "      <th>Weight(KG)</th>\n",
              "      <th>10Mark</th>\n",
              "      <th>12Mark</th>\n",
              "      <th>CollegeMark</th>\n",
              "      <th>Hobbies</th>\n",
              "      <th>DailyStudingTime</th>\n",
              "      <th>PreferToStudyIn</th>\n",
              "      <th>SalaryExpectation</th>\n",
              "      <th>LikeDegree</th>\n",
              "      <th>CareerBasedonDegree</th>\n",
              "      <th>GamesSpendingTime</th>\n",
              "      <th>TravellingTime</th>\n",
              "      <th>StressLevel</th>\n",
              "      <th>FinancialStatus</th>\n",
              "      <th>PartTimeJob?</th>\n",
              "    </tr>\n",
              "  </thead>\n",
              "  <tbody>\n",
              "    <tr>\n",
              "      <th>0</th>\n",
              "      <td>No</td>\n",
              "      <td>Male</td>\n",
              "      <td>BCA</td>\n",
              "      <td>100.0</td>\n",
              "      <td>58.0</td>\n",
              "      <td>79.0</td>\n",
              "      <td>65.0</td>\n",
              "      <td>80.0</td>\n",
              "      <td>Video Games</td>\n",
              "      <td>0 - 30 minute</td>\n",
              "      <td>Morning</td>\n",
              "      <td>40000</td>\n",
              "      <td>No</td>\n",
              "      <td>3</td>\n",
              "      <td>1.30 - 2 hour</td>\n",
              "      <td>30 - 60 minutes</td>\n",
              "      <td>Bad</td>\n",
              "      <td>Bad</td>\n",
              "      <td>No</td>\n",
              "    </tr>\n",
              "    <tr>\n",
              "      <th>1</th>\n",
              "      <td>No</td>\n",
              "      <td>Female</td>\n",
              "      <td>BCA</td>\n",
              "      <td>90.0</td>\n",
              "      <td>40.0</td>\n",
              "      <td>70.0</td>\n",
              "      <td>80.0</td>\n",
              "      <td>70.0</td>\n",
              "      <td>Cinema</td>\n",
              "      <td>30 - 60 minute</td>\n",
              "      <td>Morning</td>\n",
              "      <td>15000</td>\n",
              "      <td>Yes</td>\n",
              "      <td>4</td>\n",
              "      <td>1 - 1.30 hour</td>\n",
              "      <td>0 - 30 minutes</td>\n",
              "      <td>Bad</td>\n",
              "      <td>Bad</td>\n",
              "      <td>No</td>\n",
              "    </tr>\n",
              "    <tr>\n",
              "      <th>2</th>\n",
              "      <td>Yes</td>\n",
              "      <td>Male</td>\n",
              "      <td>BCA</td>\n",
              "      <td>159.0</td>\n",
              "      <td>78.0</td>\n",
              "      <td>69.5</td>\n",
              "      <td>61.0</td>\n",
              "      <td>55.0</td>\n",
              "      <td>Cinema</td>\n",
              "      <td>1 - 2 Hour</td>\n",
              "      <td>Anytime</td>\n",
              "      <td>13000</td>\n",
              "      <td>Yes</td>\n",
              "      <td>3</td>\n",
              "      <td>More than 2 hour</td>\n",
              "      <td>30 - 60 minutes</td>\n",
              "      <td>Awful</td>\n",
              "      <td>Bad</td>\n",
              "      <td>No</td>\n",
              "    </tr>\n",
              "    <tr>\n",
              "      <th>3</th>\n",
              "      <td>Yes</td>\n",
              "      <td>Female</td>\n",
              "      <td>BCA</td>\n",
              "      <td>147.0</td>\n",
              "      <td>20.0</td>\n",
              "      <td>70.0</td>\n",
              "      <td>59.0</td>\n",
              "      <td>58.0</td>\n",
              "      <td>Reading books</td>\n",
              "      <td>1 - 2 Hour</td>\n",
              "      <td>Anytime</td>\n",
              "      <td>1500000</td>\n",
              "      <td>No</td>\n",
              "      <td>3</td>\n",
              "      <td>1.30 - 2 hour</td>\n",
              "      <td>0 - 30 minutes</td>\n",
              "      <td>Bad</td>\n",
              "      <td>good</td>\n",
              "      <td>No</td>\n",
              "    </tr>\n",
              "    <tr>\n",
              "      <th>4</th>\n",
              "      <td>No</td>\n",
              "      <td>Male</td>\n",
              "      <td>BCA</td>\n",
              "      <td>170.0</td>\n",
              "      <td>54.0</td>\n",
              "      <td>40.0</td>\n",
              "      <td>65.0</td>\n",
              "      <td>30.0</td>\n",
              "      <td>Video Games</td>\n",
              "      <td>30 - 60 minute</td>\n",
              "      <td>Morning</td>\n",
              "      <td>50000</td>\n",
              "      <td>Yes</td>\n",
              "      <td>2</td>\n",
              "      <td>1.30 - 2 hour</td>\n",
              "      <td>30 - 60 minutes</td>\n",
              "      <td>Good</td>\n",
              "      <td>good</td>\n",
              "      <td>No</td>\n",
              "    </tr>\n",
              "  </tbody>\n",
              "</table>\n",
              "</div>\n",
              "      <button class=\"colab-df-convert\" onclick=\"convertToInteractive('df-31093777-a317-47cf-8306-48a3bae841ac')\"\n",
              "              title=\"Convert this dataframe to an interactive table.\"\n",
              "              style=\"display:none;\">\n",
              "        \n",
              "  <svg xmlns=\"http://www.w3.org/2000/svg\" height=\"24px\"viewBox=\"0 0 24 24\"\n",
              "       width=\"24px\">\n",
              "    <path d=\"M0 0h24v24H0V0z\" fill=\"none\"/>\n",
              "    <path d=\"M18.56 5.44l.94 2.06.94-2.06 2.06-.94-2.06-.94-.94-2.06-.94 2.06-2.06.94zm-11 1L8.5 8.5l.94-2.06 2.06-.94-2.06-.94L8.5 2.5l-.94 2.06-2.06.94zm10 10l.94 2.06.94-2.06 2.06-.94-2.06-.94-.94-2.06-.94 2.06-2.06.94z\"/><path d=\"M17.41 7.96l-1.37-1.37c-.4-.4-.92-.59-1.43-.59-.52 0-1.04.2-1.43.59L10.3 9.45l-7.72 7.72c-.78.78-.78 2.05 0 2.83L4 21.41c.39.39.9.59 1.41.59.51 0 1.02-.2 1.41-.59l7.78-7.78 2.81-2.81c.8-.78.8-2.07 0-2.86zM5.41 20L4 18.59l7.72-7.72 1.47 1.35L5.41 20z\"/>\n",
              "  </svg>\n",
              "      </button>\n",
              "      \n",
              "  <style>\n",
              "    .colab-df-container {\n",
              "      display:flex;\n",
              "      flex-wrap:wrap;\n",
              "      gap: 12px;\n",
              "    }\n",
              "\n",
              "    .colab-df-convert {\n",
              "      background-color: #E8F0FE;\n",
              "      border: none;\n",
              "      border-radius: 50%;\n",
              "      cursor: pointer;\n",
              "      display: none;\n",
              "      fill: #1967D2;\n",
              "      height: 32px;\n",
              "      padding: 0 0 0 0;\n",
              "      width: 32px;\n",
              "    }\n",
              "\n",
              "    .colab-df-convert:hover {\n",
              "      background-color: #E2EBFA;\n",
              "      box-shadow: 0px 1px 2px rgba(60, 64, 67, 0.3), 0px 1px 3px 1px rgba(60, 64, 67, 0.15);\n",
              "      fill: #174EA6;\n",
              "    }\n",
              "\n",
              "    [theme=dark] .colab-df-convert {\n",
              "      background-color: #3B4455;\n",
              "      fill: #D2E3FC;\n",
              "    }\n",
              "\n",
              "    [theme=dark] .colab-df-convert:hover {\n",
              "      background-color: #434B5C;\n",
              "      box-shadow: 0px 1px 3px 1px rgba(0, 0, 0, 0.15);\n",
              "      filter: drop-shadow(0px 1px 2px rgba(0, 0, 0, 0.3));\n",
              "      fill: #FFFFFF;\n",
              "    }\n",
              "  </style>\n",
              "\n",
              "      <script>\n",
              "        const buttonEl =\n",
              "          document.querySelector('#df-31093777-a317-47cf-8306-48a3bae841ac button.colab-df-convert');\n",
              "        buttonEl.style.display =\n",
              "          google.colab.kernel.accessAllowed ? 'block' : 'none';\n",
              "\n",
              "        async function convertToInteractive(key) {\n",
              "          const element = document.querySelector('#df-31093777-a317-47cf-8306-48a3bae841ac');\n",
              "          const dataTable =\n",
              "            await google.colab.kernel.invokeFunction('convertToInteractive',\n",
              "                                                     [key], {});\n",
              "          if (!dataTable) return;\n",
              "\n",
              "          const docLinkHtml = 'Like what you see? Visit the ' +\n",
              "            '<a target=\"_blank\" href=https://colab.research.google.com/notebooks/data_table.ipynb>data table notebook</a>'\n",
              "            + ' to learn more about interactive tables.';\n",
              "          element.innerHTML = '';\n",
              "          dataTable['output_type'] = 'display_data';\n",
              "          await google.colab.output.renderOutput(dataTable, element);\n",
              "          const docLink = document.createElement('div');\n",
              "          docLink.innerHTML = docLinkHtml;\n",
              "          element.appendChild(docLink);\n",
              "        }\n",
              "      </script>\n",
              "    </div>\n",
              "  </div>\n",
              "  "
            ]
          },
          "metadata": {},
          "execution_count": 695
        }
      ]
    },
    {
      "cell_type": "code",
      "source": [
        "# видим, что тип данных поменялся на 'int8'\n",
        "df.dtypes"
      ],
      "metadata": {
        "colab": {
          "base_uri": "https://localhost:8080/"
        },
        "id": "mXCeY8W9CE2U",
        "outputId": "542a4ab5-e5ef-448f-e41f-4257fa377d39"
      },
      "execution_count": null,
      "outputs": [
        {
          "output_type": "execute_result",
          "data": {
            "text/plain": [
              "CertificationCourses     object\n",
              "Gender                   object\n",
              "Department               object\n",
              "Height(CM)              float64\n",
              "Weight(KG)              float64\n",
              "10Mark                  float64\n",
              "12Mark                  float64\n",
              "CollegeMark             float64\n",
              "Hobbies                  object\n",
              "DailyStudingTime         object\n",
              "PreferToStudyIn          object\n",
              "SalaryExpectation         int64\n",
              "LikeDegree               object\n",
              "CareerBasedonDegree        int8\n",
              "GamesSpendingTime        object\n",
              "TravellingTime           object\n",
              "StressLevel              object\n",
              "FinancialStatus          object\n",
              "PartTimeJob?             object\n",
              "dtype: object"
            ]
          },
          "metadata": {},
          "execution_count": 696
        }
      ]
    },
    {
      "cell_type": "markdown",
      "metadata": {
        "id": "3ubu0QO0fulP"
      },
      "source": [
        "В датасете есть 3 поля, с суффиксом `Time`, данные в них строковые, которые означают временной интервал. Извлеките минимальное время(левую границу интервала) для каждой из этих переменных и переведите в минуты, запишите в новые столбцы, удалите старые."
      ]
    },
    {
      "cell_type": "code",
      "source": [
        "# помощь - https://elearning.wsldp.com/python3/python-check-string-is-a-number/\n",
        "def is_number(string):\n",
        "    try:\n",
        "        float(string)\n",
        "        return True\n",
        "    except ValueError:\n",
        "        return False"
      ],
      "metadata": {
        "id": "3oWdxVDY9KZo"
      },
      "execution_count": null,
      "outputs": []
    },
    {
      "cell_type": "code",
      "source": [
        "def convert_to_minutes(df):\n",
        "    x = df\n",
        "    y = []\n",
        "    for i in x:\n",
        "        temp = min([float(s) for s in i.split() if is_number(s)])\n",
        "        if \"hour\" in i or \"Hour\" in i:\n",
        "            temp *= 60\n",
        "        y.append(int(temp))\n",
        "    return y"
      ],
      "metadata": {
        "id": "yPk0rWCy5E7Z"
      },
      "execution_count": null,
      "outputs": []
    },
    {
      "cell_type": "code",
      "source": [
        "df_temp = pd.DataFrame()\n",
        "\n",
        "df_temp['DailyStudingTime'] = df['DailyStudingTime']\n",
        "df_temp['GamesSpendingTime'] = df['GamesSpendingTime']\n",
        "df_temp['TravellingTime '] = df['TravellingTime ']"
      ],
      "metadata": {
        "id": "rvxxOUyw6K8k"
      },
      "execution_count": null,
      "outputs": []
    },
    {
      "cell_type": "code",
      "source": [
        "df_temp.head()"
      ],
      "metadata": {
        "colab": {
          "base_uri": "https://localhost:8080/",
          "height": 204
        },
        "id": "Tapy9xn26S58",
        "outputId": "b5dc0d35-3067-4d0f-a1a2-28cf11a76104"
      },
      "execution_count": null,
      "outputs": [
        {
          "output_type": "execute_result",
          "data": {
            "text/plain": [
              "  DailyStudingTime GamesSpendingTime  TravellingTime \n",
              "0    0 - 30 minute     1.30 - 2 hour  30 - 60 minutes\n",
              "1   30 - 60 minute     1 - 1.30 hour   0 - 30 minutes\n",
              "2       1 - 2 Hour  More than 2 hour  30 - 60 minutes\n",
              "3       1 - 2 Hour     1.30 - 2 hour   0 - 30 minutes\n",
              "4   30 - 60 minute     1.30 - 2 hour  30 - 60 minutes"
            ],
            "text/html": [
              "\n",
              "  <div id=\"df-6e7ca7c0-b59d-4d91-ba90-50d459ce3e54\">\n",
              "    <div class=\"colab-df-container\">\n",
              "      <div>\n",
              "<style scoped>\n",
              "    .dataframe tbody tr th:only-of-type {\n",
              "        vertical-align: middle;\n",
              "    }\n",
              "\n",
              "    .dataframe tbody tr th {\n",
              "        vertical-align: top;\n",
              "    }\n",
              "\n",
              "    .dataframe thead th {\n",
              "        text-align: right;\n",
              "    }\n",
              "</style>\n",
              "<table border=\"1\" class=\"dataframe\">\n",
              "  <thead>\n",
              "    <tr style=\"text-align: right;\">\n",
              "      <th></th>\n",
              "      <th>DailyStudingTime</th>\n",
              "      <th>GamesSpendingTime</th>\n",
              "      <th>TravellingTime</th>\n",
              "    </tr>\n",
              "  </thead>\n",
              "  <tbody>\n",
              "    <tr>\n",
              "      <th>0</th>\n",
              "      <td>0 - 30 minute</td>\n",
              "      <td>1.30 - 2 hour</td>\n",
              "      <td>30 - 60 minutes</td>\n",
              "    </tr>\n",
              "    <tr>\n",
              "      <th>1</th>\n",
              "      <td>30 - 60 minute</td>\n",
              "      <td>1 - 1.30 hour</td>\n",
              "      <td>0 - 30 minutes</td>\n",
              "    </tr>\n",
              "    <tr>\n",
              "      <th>2</th>\n",
              "      <td>1 - 2 Hour</td>\n",
              "      <td>More than 2 hour</td>\n",
              "      <td>30 - 60 minutes</td>\n",
              "    </tr>\n",
              "    <tr>\n",
              "      <th>3</th>\n",
              "      <td>1 - 2 Hour</td>\n",
              "      <td>1.30 - 2 hour</td>\n",
              "      <td>0 - 30 minutes</td>\n",
              "    </tr>\n",
              "    <tr>\n",
              "      <th>4</th>\n",
              "      <td>30 - 60 minute</td>\n",
              "      <td>1.30 - 2 hour</td>\n",
              "      <td>30 - 60 minutes</td>\n",
              "    </tr>\n",
              "  </tbody>\n",
              "</table>\n",
              "</div>\n",
              "      <button class=\"colab-df-convert\" onclick=\"convertToInteractive('df-6e7ca7c0-b59d-4d91-ba90-50d459ce3e54')\"\n",
              "              title=\"Convert this dataframe to an interactive table.\"\n",
              "              style=\"display:none;\">\n",
              "        \n",
              "  <svg xmlns=\"http://www.w3.org/2000/svg\" height=\"24px\"viewBox=\"0 0 24 24\"\n",
              "       width=\"24px\">\n",
              "    <path d=\"M0 0h24v24H0V0z\" fill=\"none\"/>\n",
              "    <path d=\"M18.56 5.44l.94 2.06.94-2.06 2.06-.94-2.06-.94-.94-2.06-.94 2.06-2.06.94zm-11 1L8.5 8.5l.94-2.06 2.06-.94-2.06-.94L8.5 2.5l-.94 2.06-2.06.94zm10 10l.94 2.06.94-2.06 2.06-.94-2.06-.94-.94-2.06-.94 2.06-2.06.94z\"/><path d=\"M17.41 7.96l-1.37-1.37c-.4-.4-.92-.59-1.43-.59-.52 0-1.04.2-1.43.59L10.3 9.45l-7.72 7.72c-.78.78-.78 2.05 0 2.83L4 21.41c.39.39.9.59 1.41.59.51 0 1.02-.2 1.41-.59l7.78-7.78 2.81-2.81c.8-.78.8-2.07 0-2.86zM5.41 20L4 18.59l7.72-7.72 1.47 1.35L5.41 20z\"/>\n",
              "  </svg>\n",
              "      </button>\n",
              "      \n",
              "  <style>\n",
              "    .colab-df-container {\n",
              "      display:flex;\n",
              "      flex-wrap:wrap;\n",
              "      gap: 12px;\n",
              "    }\n",
              "\n",
              "    .colab-df-convert {\n",
              "      background-color: #E8F0FE;\n",
              "      border: none;\n",
              "      border-radius: 50%;\n",
              "      cursor: pointer;\n",
              "      display: none;\n",
              "      fill: #1967D2;\n",
              "      height: 32px;\n",
              "      padding: 0 0 0 0;\n",
              "      width: 32px;\n",
              "    }\n",
              "\n",
              "    .colab-df-convert:hover {\n",
              "      background-color: #E2EBFA;\n",
              "      box-shadow: 0px 1px 2px rgba(60, 64, 67, 0.3), 0px 1px 3px 1px rgba(60, 64, 67, 0.15);\n",
              "      fill: #174EA6;\n",
              "    }\n",
              "\n",
              "    [theme=dark] .colab-df-convert {\n",
              "      background-color: #3B4455;\n",
              "      fill: #D2E3FC;\n",
              "    }\n",
              "\n",
              "    [theme=dark] .colab-df-convert:hover {\n",
              "      background-color: #434B5C;\n",
              "      box-shadow: 0px 1px 3px 1px rgba(0, 0, 0, 0.15);\n",
              "      filter: drop-shadow(0px 1px 2px rgba(0, 0, 0, 0.3));\n",
              "      fill: #FFFFFF;\n",
              "    }\n",
              "  </style>\n",
              "\n",
              "      <script>\n",
              "        const buttonEl =\n",
              "          document.querySelector('#df-6e7ca7c0-b59d-4d91-ba90-50d459ce3e54 button.colab-df-convert');\n",
              "        buttonEl.style.display =\n",
              "          google.colab.kernel.accessAllowed ? 'block' : 'none';\n",
              "\n",
              "        async function convertToInteractive(key) {\n",
              "          const element = document.querySelector('#df-6e7ca7c0-b59d-4d91-ba90-50d459ce3e54');\n",
              "          const dataTable =\n",
              "            await google.colab.kernel.invokeFunction('convertToInteractive',\n",
              "                                                     [key], {});\n",
              "          if (!dataTable) return;\n",
              "\n",
              "          const docLinkHtml = 'Like what you see? Visit the ' +\n",
              "            '<a target=\"_blank\" href=https://colab.research.google.com/notebooks/data_table.ipynb>data table notebook</a>'\n",
              "            + ' to learn more about interactive tables.';\n",
              "          element.innerHTML = '';\n",
              "          dataTable['output_type'] = 'display_data';\n",
              "          await google.colab.output.renderOutput(dataTable, element);\n",
              "          const docLink = document.createElement('div');\n",
              "          docLink.innerHTML = docLinkHtml;\n",
              "          element.appendChild(docLink);\n",
              "        }\n",
              "      </script>\n",
              "    </div>\n",
              "  </div>\n",
              "  "
            ]
          },
          "metadata": {},
          "execution_count": 700
        }
      ]
    },
    {
      "cell_type": "code",
      "source": [
        "# трансформируем содержащееся колонок в минуты\n",
        "df_temp['DailyStudingTime'] = convert_to_minutes(df_temp['DailyStudingTime'])\n",
        "df_temp['GamesSpendingTime'] = convert_to_minutes(df_temp['GamesSpendingTime'])\n",
        "df_temp['TravellingTime '] = convert_to_minutes(df_temp['TravellingTime '])"
      ],
      "metadata": {
        "id": "vPyV0t-P6b2A"
      },
      "execution_count": null,
      "outputs": []
    },
    {
      "cell_type": "code",
      "source": [
        "df['DailyStudingTime'] = df_temp['DailyStudingTime']\n",
        "df['GamesSpendingTime'] = df_temp['GamesSpendingTime']\n",
        "df['TravellingTime '] = df_temp['TravellingTime ']"
      ],
      "metadata": {
        "id": "Vp8fAiUs-p_6"
      },
      "execution_count": null,
      "outputs": []
    },
    {
      "cell_type": "code",
      "source": [
        "df['DailyStudingTime'].head()"
      ],
      "metadata": {
        "colab": {
          "base_uri": "https://localhost:8080/"
        },
        "id": "zAoojJic-yZ4",
        "outputId": "fa909efa-199c-49f9-d12a-120c3f523f76"
      },
      "execution_count": null,
      "outputs": [
        {
          "output_type": "execute_result",
          "data": {
            "text/plain": [
              "0     0\n",
              "1    30\n",
              "2    60\n",
              "3    60\n",
              "4    30\n",
              "Name: DailyStudingTime, dtype: int64"
            ]
          },
          "metadata": {},
          "execution_count": 703
        }
      ]
    },
    {
      "cell_type": "code",
      "source": [
        "df['GamesSpendingTime'].head()"
      ],
      "metadata": {
        "colab": {
          "base_uri": "https://localhost:8080/"
        },
        "id": "yyYQwJFsiic9",
        "outputId": "173871d0-0397-456d-a603-c1bd717f325d"
      },
      "execution_count": null,
      "outputs": [
        {
          "output_type": "execute_result",
          "data": {
            "text/plain": [
              "0     78\n",
              "1     60\n",
              "2    120\n",
              "3     78\n",
              "4     78\n",
              "Name: GamesSpendingTime, dtype: int64"
            ]
          },
          "metadata": {},
          "execution_count": 704
        }
      ]
    },
    {
      "cell_type": "code",
      "source": [
        "df['TravellingTime '].head()"
      ],
      "metadata": {
        "colab": {
          "base_uri": "https://localhost:8080/"
        },
        "id": "enWkB_CQiiVN",
        "outputId": "eba32e0d-f9d4-4374-940d-598b0d8024b8"
      },
      "execution_count": null,
      "outputs": [
        {
          "output_type": "execute_result",
          "data": {
            "text/plain": [
              "0    30\n",
              "1     0\n",
              "2    30\n",
              "3     0\n",
              "4    30\n",
              "Name: TravellingTime , dtype: int64"
            ]
          },
          "metadata": {},
          "execution_count": 705
        }
      ]
    },
    {
      "cell_type": "markdown",
      "metadata": {
        "id": "Ur7VuOnNfulQ"
      },
      "source": [
        "Выберем колонки (непрерывные переменные), которые будем использовать для предсказания целевой переменной с помощью knn"
      ]
    },
    {
      "cell_type": "code",
      "source": [
        "df.columns"
      ],
      "metadata": {
        "colab": {
          "base_uri": "https://localhost:8080/"
        },
        "id": "cPmIUnt9DvOT",
        "outputId": "95fe2048-7c90-4e20-cbf2-31acfc61a62f"
      },
      "execution_count": null,
      "outputs": [
        {
          "output_type": "execute_result",
          "data": {
            "text/plain": [
              "Index(['CertificationCourses', 'Gender', 'Department', 'Height(CM)',\n",
              "       'Weight(KG)', '10Mark', '12Mark', 'CollegeMark', 'Hobbies',\n",
              "       'DailyStudingTime', 'PreferToStudyIn', 'SalaryExpectation',\n",
              "       'LikeDegree', 'CareerBasedonDegree', 'GamesSpendingTime',\n",
              "       'TravellingTime ', 'StressLevel ', 'FinancialStatus', 'PartTimeJob?'],\n",
              "      dtype='object')"
            ]
          },
          "metadata": {},
          "execution_count": 706
        }
      ]
    },
    {
      "cell_type": "markdown",
      "source": [
        "Возьмём continuos переменные:"
      ],
      "metadata": {
        "id": "JBsWHtyzdSBs"
      }
    },
    {
      "cell_type": "code",
      "source": [
        "df.nunique()"
      ],
      "metadata": {
        "colab": {
          "base_uri": "https://localhost:8080/"
        },
        "id": "sK7ezTysehdK",
        "outputId": "f2267c0d-337a-4ef0-ff34-57d24aae4224"
      },
      "execution_count": null,
      "outputs": [
        {
          "output_type": "execute_result",
          "data": {
            "text/plain": [
              "CertificationCourses     2\n",
              "Gender                   2\n",
              "Department               4\n",
              "Height(CM)              56\n",
              "Weight(KG)              52\n",
              "10Mark                  68\n",
              "12Mark                  67\n",
              "CollegeMark             43\n",
              "Hobbies                  4\n",
              "DailyStudingTime         6\n",
              "PreferToStudyIn          3\n",
              "SalaryExpectation       34\n",
              "LikeDegree               2\n",
              "CareerBasedonDegree      5\n",
              "GamesSpendingTime        6\n",
              "TravellingTime           7\n",
              "StressLevel              4\n",
              "FinancialStatus          4\n",
              "PartTimeJob?             2\n",
              "dtype: int64"
            ]
          },
          "metadata": {},
          "execution_count": 707
        }
      ]
    },
    {
      "cell_type": "code",
      "source": [
        "# колонки (непрерывные переменные), которые будем использовать для предсказания целевой переменной с помощью KNN\n",
        "numerical_cols = [\n",
        "            'Height(CM)',\n",
        "            'Weight(KG)', \n",
        "            '10Mark', \n",
        "            '12Mark', \n",
        "            'CollegeMark',\n",
        "            'DailyStudingTime',\n",
        "            'SalaryExpectation',\n",
        "            'CareerBasedonDegree',\n",
        "            'GamesSpendingTime',\n",
        "            'TravellingTime ',\n",
        "]"
      ],
      "metadata": {
        "id": "toounttqDfVi"
      },
      "execution_count": null,
      "outputs": []
    },
    {
      "cell_type": "markdown",
      "metadata": {
        "id": "gu9UZj4YfulQ"
      },
      "source": [
        "Есть ли в выбранных колонках выбросы? (Пока не нужно их чистить)"
      ]
    },
    {
      "cell_type": "markdown",
      "source": [
        "Да, выбросы несомненно имеются, куда уж без них..."
      ],
      "metadata": {
        "id": "SaF66Ry3slQm"
      }
    },
    {
      "cell_type": "markdown",
      "source": [
        "Визулизируем лишь те непрерывные переменные, в которых имеются выбросы и наглядно это покажем для общего понимания картины:"
      ],
      "metadata": {
        "id": "EVXbp1bAi5AV"
      }
    },
    {
      "cell_type": "code",
      "source": [
        "# коробчатая диаграмма\n",
        "df.boxplot(column = ['Height(CM)'])"
      ],
      "metadata": {
        "colab": {
          "base_uri": "https://localhost:8080/",
          "height": 285
        },
        "id": "ukBxy_rEjRoW",
        "outputId": "c9394df7-9f00-4353-e190-3ad9bad9e331"
      },
      "execution_count": null,
      "outputs": [
        {
          "output_type": "execute_result",
          "data": {
            "text/plain": [
              "<matplotlib.axes._subplots.AxesSubplot at 0x7eff30d301d0>"
            ]
          },
          "metadata": {},
          "execution_count": 709
        },
        {
          "output_type": "display_data",
          "data": {
            "text/plain": [
              "<Figure size 432x288 with 1 Axes>"
            ],
            "image/png": "[encoded data removed]"
          },
          "metadata": {
            "needs_background": "light"
          }
        }
      ]
    },
    {
      "cell_type": "markdown",
      "source": [
        "Видим некотоые выбросы со значением меньше 125см в колонке 'Height(CM)', вероятно это дети 🚸🧒 или карлики, хотя датасет состоит из студентов :)"
      ],
      "metadata": {
        "id": "3XykGkkxkjWL"
      }
    },
    {
      "cell_type": "code",
      "source": [
        "df.boxplot(column = ['10Mark'])"
      ],
      "metadata": {
        "colab": {
          "base_uri": "https://localhost:8080/",
          "height": 282
        },
        "id": "CTCZjtbjrETu",
        "outputId": "6187cdf7-39b6-45b8-bca3-e3328c328b30"
      },
      "execution_count": null,
      "outputs": [
        {
          "output_type": "execute_result",
          "data": {
            "text/plain": [
              "<matplotlib.axes._subplots.AxesSubplot at 0x7eff30cf6c90>"
            ]
          },
          "metadata": {},
          "execution_count": 710
        },
        {
          "output_type": "display_data",
          "data": {
            "text/plain": [
              "<Figure size 432x288 with 1 Axes>"
            ],
            "image/png": "[encoded data removed]"
          },
          "metadata": {
            "needs_background": "light"
          }
        }
      ]
    },
    {
      "cell_type": "markdown",
      "source": [
        "Заметим небольшие выбросы со значением ниже 50 в колонке '10Mark'"
      ],
      "metadata": {
        "id": "GtDu6rE-rE5a"
      }
    },
    {
      "cell_type": "code",
      "source": [
        "df.boxplot(column = ['Weight(KG)'])"
      ],
      "metadata": {
        "colab": {
          "base_uri": "https://localhost:8080/",
          "height": 282
        },
        "id": "RBUQl0krjRgD",
        "outputId": "8e3a0d71-717c-49e3-ac5b-af2b285ce024"
      },
      "execution_count": null,
      "outputs": [
        {
          "output_type": "execute_result",
          "data": {
            "text/plain": [
              "<matplotlib.axes._subplots.AxesSubplot at 0x7eff30c76590>"
            ]
          },
          "metadata": {},
          "execution_count": 711
        },
        {
          "output_type": "display_data",
          "data": {
            "text/plain": [
              "<Figure size 432x288 with 1 Axes>"
            ],
            "image/png": "[encoded data removed]"
          },
          "metadata": {
            "needs_background": "light"
          }
        }
      ]
    },
    {
      "cell_type": "markdown",
      "source": [
        "Есть один выброс со значением выше 100kg в колонке 'Weight(KG)', действительно не все люди кабаны и весят по 100кг, такое бывает - вкусно и точка 😋:)"
      ],
      "metadata": {
        "id": "sGhv1QHakcCa"
      }
    },
    {
      "cell_type": "code",
      "source": [
        "df.boxplot(column = ['CollegeMark'])"
      ],
      "metadata": {
        "colab": {
          "base_uri": "https://localhost:8080/",
          "height": 282
        },
        "id": "i8a5ajVDjRPK",
        "outputId": "096947fa-0c76-4b20-9f5e-1e62db29ba46"
      },
      "execution_count": null,
      "outputs": [
        {
          "output_type": "execute_result",
          "data": {
            "text/plain": [
              "<matplotlib.axes._subplots.AxesSubplot at 0x7eff30c64550>"
            ]
          },
          "metadata": {},
          "execution_count": 712
        },
        {
          "output_type": "display_data",
          "data": {
            "text/plain": [
              "<Figure size 432x288 with 1 Axes>"
            ],
            "image/png": "[encoded data removed]"
          },
          "metadata": {
            "needs_background": "light"
          }
        }
      ]
    },
    {
      "cell_type": "markdown",
      "source": [
        "Есть некоторые выбросы со значением ниже 20 в колонке 'CollegeMark', вероятно двоечники-тиктокеры 😆🤝"
      ],
      "metadata": {
        "id": "wUxWdHRRkW-B"
      }
    },
    {
      "cell_type": "code",
      "source": [
        "df.boxplot(column = ['DailyStudingTime'])"
      ],
      "metadata": {
        "colab": {
          "base_uri": "https://localhost:8080/",
          "height": 285
        },
        "id": "C4ybJugpjRJk",
        "outputId": "9a20af23-8437-4a63-c078-f598b353d78f"
      },
      "execution_count": null,
      "outputs": [
        {
          "output_type": "execute_result",
          "data": {
            "text/plain": [
              "<matplotlib.axes._subplots.AxesSubplot at 0x7eff30bd1f10>"
            ]
          },
          "metadata": {},
          "execution_count": 713
        },
        {
          "output_type": "display_data",
          "data": {
            "text/plain": [
              "<Figure size 432x288 with 1 Axes>"
            ],
            "image/png": "[encoded data removed]"
          },
          "metadata": {
            "needs_background": "light"
          }
        }
      ]
    },
    {
      "cell_type": "markdown",
      "source": [
        "Есть парочка выбросов со значением времени более 100 в колонке 'DailyStudingTime', настоящие работяги 💪"
      ],
      "metadata": {
        "id": "31XaOoOQkRRu"
      }
    },
    {
      "cell_type": "code",
      "source": [
        "df.boxplot(column = ['SalaryExpectation'])"
      ],
      "metadata": {
        "colab": {
          "base_uri": "https://localhost:8080/",
          "height": 293
        },
        "id": "LQ6h9gbRjLss",
        "outputId": "78e6fcf7-3029-40c2-9bf8-f392471ff411"
      },
      "execution_count": null,
      "outputs": [
        {
          "output_type": "execute_result",
          "data": {
            "text/plain": [
              "<matplotlib.axes._subplots.AxesSubplot at 0x7eff30b428d0>"
            ]
          },
          "metadata": {},
          "execution_count": 714
        },
        {
          "output_type": "display_data",
          "data": {
            "text/plain": [
              "<Figure size 432x288 with 1 Axes>"
            ],
            "image/png": "[encoded data removed]"
          },
          "metadata": {
            "needs_background": "light"
          }
        }
      ]
    },
    {
      "cell_type": "markdown",
      "source": [
        "Есть некотоые выбросы в колонке 'SalaryExpectation' со значением между 0.4 и 0.8, а также явный аутлайер со значением более 1.4 🤑💸"
      ],
      "metadata": {
        "id": "VsjW3v2NkK8i"
      }
    },
    {
      "cell_type": "code",
      "source": [
        "df.boxplot(column = ['TravellingTime '])"
      ],
      "metadata": {
        "colab": {
          "base_uri": "https://localhost:8080/",
          "height": 282
        },
        "id": "l9HSdLdIjow8",
        "outputId": "e585159b-dbee-47e9-a24c-6e459a2b6e84"
      },
      "execution_count": null,
      "outputs": [
        {
          "output_type": "execute_result",
          "data": {
            "text/plain": [
              "<matplotlib.axes._subplots.AxesSubplot at 0x7eff30c1a890>"
            ]
          },
          "metadata": {},
          "execution_count": 715
        },
        {
          "output_type": "display_data",
          "data": {
            "text/plain": [
              "<Figure size 432x288 with 1 Axes>"
            ],
            "image/png": "[encoded data removed]"
          },
          "metadata": {
            "needs_background": "light"
          }
        }
      ]
    },
    {
      "cell_type": "markdown",
      "source": [
        "Есть некоторые выбросы со значением выше 120 в колонке 'TravellingTime ', настоящие путешественники-тревел блоггеры ⛺"
      ],
      "metadata": {
        "id": "0nR3fU0SkFNO"
      }
    },
    {
      "cell_type": "markdown",
      "metadata": {
        "id": "O4bfacvSfulR"
      },
      "source": [
        "Как распределена целевая переменная? Нет ли дисбаланса классов? Если есть дисбаланс, какие метрики качества классификатора можно использовать, какие нет? Рассматриваем метрики, которые проходили в рамках курса."
      ]
    },
    {
      "cell_type": "code",
      "source": [
        "import seaborn as sns\n",
        "import matplotlib.pyplot as plt\n",
        "plt.figure(figsize = (20, 8))\n",
        "\n",
        "sns.heatmap(df.corr(), annot = True);"
      ],
      "metadata": {
        "colab": {
          "base_uri": "https://localhost:8080/",
          "height": 590
        },
        "id": "YzGgR3er6gaX",
        "outputId": "5d2d1c77-1a8e-42d9-d8b8-3f1837f5178a"
      },
      "execution_count": null,
      "outputs": [
        {
          "output_type": "display_data",
          "data": {
            "text/plain": [
              "<Figure size 1440x576 with 2 Axes>"
            ],
            "image/png": "[encoded data removed]"
          },
          "metadata": {
            "needs_background": "light"
          }
        }
      ]
    },
    {
      "cell_type": "markdown",
      "metadata": {
        "id": "jsIuRxJufulR"
      },
      "source": [
        "Переведём целевую переменную к численному формату."
      ]
    },
    {
      "cell_type": "code",
      "execution_count": null,
      "metadata": {
        "id": "RNhOZwIefulS"
      },
      "outputs": [],
      "source": [
        "target_col = ['LikeDegree']"
      ]
    },
    {
      "cell_type": "code",
      "source": [
        "df['LikeDegree'] = df['LikeDegree'].apply(lambda x: 1 if x == \"Yes\" else 0)\n",
        "df['LikeDegree'].head()"
      ],
      "metadata": {
        "colab": {
          "base_uri": "https://localhost:8080/"
        },
        "id": "c2wlw8UYqbq-",
        "outputId": "6a439147-f78d-41d7-90d7-217834b0db3d"
      },
      "execution_count": null,
      "outputs": [
        {
          "output_type": "execute_result",
          "data": {
            "text/plain": [
              "0    0\n",
              "1    1\n",
              "2    1\n",
              "3    0\n",
              "4    1\n",
              "Name: LikeDegree, dtype: int64"
            ]
          },
          "metadata": {},
          "execution_count": 718
        }
      ]
    },
    {
      "cell_type": "markdown",
      "source": [
        "Рассмотрим распределение целевой переменной 'LikeDegree':"
      ],
      "metadata": {
        "id": "XXMrLbJhhcGP"
      }
    },
    {
      "cell_type": "code",
      "source": [
        "df[target_col].value_counts()"
      ],
      "metadata": {
        "colab": {
          "base_uri": "https://localhost:8080/"
        },
        "id": "1cSTrAHdduHo",
        "outputId": "cdf4f64b-b609-4454-acd5-dffe5d3ccdff"
      },
      "execution_count": null,
      "outputs": [
        {
          "output_type": "execute_result",
          "data": {
            "text/plain": [
              "LikeDegree\n",
              "1             215\n",
              "0              20\n",
              "dtype: int64"
            ]
          },
          "metadata": {},
          "execution_count": 719
        }
      ]
    },
    {
      "cell_type": "code",
      "source": [
        "df[target_col].value_counts().plot(kind = 'bar', label = 'LikeDegree')\n",
        "\n",
        "plt.legend()\n",
        "plt.title('LikeDegree distribution');"
      ],
      "metadata": {
        "colab": {
          "base_uri": "https://localhost:8080/",
          "height": 303
        },
        "id": "xo-dFp74hd1Q",
        "outputId": "f2ef3a1a-ee7f-4f1c-a100-69498db2c3b1"
      },
      "execution_count": null,
      "outputs": [
        {
          "output_type": "display_data",
          "data": {
            "text/plain": [
              "<Figure size 432x288 with 1 Axes>"
            ],
            "image/png": "[encoded data removed]"
          },
          "metadata": {
            "needs_background": "light"
          }
        }
      ]
    },
    {
      "cell_type": "markdown",
      "metadata": {
        "id": "7SX8nXXSfulS"
      },
      "source": [
        "### Часть 2: Строим модели\n",
        "Разобьём выборку на обучающую и тестовую. "
      ]
    },
    {
      "cell_type": "code",
      "source": [
        "X = df[numerical_cols]\n",
        "y = df[target_col]"
      ],
      "metadata": {
        "id": "qXd0IN7RMi1h"
      },
      "execution_count": null,
      "outputs": []
    },
    {
      "cell_type": "markdown",
      "source": [
        "80% for training, 20% for testing."
      ],
      "metadata": {
        "id": "Cj8q1w2MqUBC"
      }
    },
    {
      "cell_type": "code",
      "execution_count": null,
      "metadata": {
        "id": "KyFBNrNCfulS"
      },
      "outputs": [],
      "source": [
        "from sklearn.model_selection import train_test_split\n",
        "# разбиваем выборку                      \n",
        "X_train, X_test, y_train, y_test = train_test_split(X, y, test_size = 0.2, random_state = 42)"
      ]
    },
    {
      "cell_type": "markdown",
      "metadata": {
        "id": "_8Vgf9YDfulS"
      },
      "source": [
        "Построим наивную модель предсказания для целевой переменной. \n",
        "\n",
        "Наивная модель - это самая простая модель, без сложных зависимостей. Например, для регрессии наивная модель - среднее для целевой переменной. В данном случае наивной моделью может быть предположение \"все студенты (не)довольны\"."
      ]
    },
    {
      "cell_type": "code",
      "execution_count": null,
      "metadata": {
        "id": "IMLSnqrRfulS"
      },
      "outputs": [],
      "source": [
        "y_naive = np.zeros(len(y_test))"
      ]
    },
    {
      "cell_type": "markdown",
      "metadata": {
        "id": "L4fQ_MBKfulT"
      },
      "source": [
        "Построим модели ближайших соседей для 3, 5, 7 ближайших соседей. "
      ]
    },
    {
      "cell_type": "markdown",
      "source": [
        "#### Модель ближайших соседей для 3 ближайших соседей:"
      ],
      "metadata": {
        "id": "Jgb4DGunn0U3"
      }
    },
    {
      "cell_type": "code",
      "execution_count": null,
      "metadata": {
        "id": "uu1RdHP3fulT",
        "colab": {
          "base_uri": "https://localhost:8080/"
        },
        "outputId": "dccf5296-4262-427a-d42f-e48a96df1ab6"
      },
      "outputs": [
        {
          "output_type": "stream",
          "name": "stderr",
          "text": [
            "/usr/local/lib/python3.7/dist-packages/sklearn/neighbors/_classification.py:198: DataConversionWarning: A column-vector y was passed when a 1d array was expected. Please change the shape of y to (n_samples,), for example using ravel().\n",
            "  return self._fit(X, y)\n"
          ]
        }
      ],
      "source": [
        "from sklearn.neighbors import KNeighborsClassifier\n",
        "\n",
        "model_3 = KNeighborsClassifier(n_neighbors = 3).fit(X_train, y_train)"
      ]
    },
    {
      "cell_type": "code",
      "source": [
        "y_pred_3 = model_3.predict(X_test)"
      ],
      "metadata": {
        "id": "0Bbk_NJXl3JG"
      },
      "execution_count": null,
      "outputs": []
    },
    {
      "cell_type": "code",
      "source": [
        "from sklearn.metrics import classification_report\n",
        "from sklearn.metrics import confusion_matrix\n",
        "\n",
        "print(classification_report(y_test, y_pred_3))"
      ],
      "metadata": {
        "colab": {
          "base_uri": "https://localhost:8080/"
        },
        "id": "MX2KgH-Yl6zt",
        "outputId": "f3f35a1c-eeee-4dc3-935e-d8de2d0b0fc6"
      },
      "execution_count": null,
      "outputs": [
        {
          "output_type": "stream",
          "name": "stdout",
          "text": [
            "              precision    recall  f1-score   support\n",
            "\n",
            "           0       0.00      0.00      0.00         3\n",
            "           1       0.93      0.98      0.96        44\n",
            "\n",
            "    accuracy                           0.91        47\n",
            "   macro avg       0.47      0.49      0.48        47\n",
            "weighted avg       0.88      0.91      0.89        47\n",
            "\n"
          ]
        }
      ]
    },
    {
      "cell_type": "code",
      "source": [
        "p_pred_knn = model_3.predict_proba(X_test) \n",
        "p_pred_knn = p_pred_knn[:, 1]"
      ],
      "metadata": {
        "id": "gXMqX2O4m8BS"
      },
      "execution_count": null,
      "outputs": []
    },
    {
      "cell_type": "code",
      "source": [
        "p_pred_knn"
      ],
      "metadata": {
        "colab": {
          "base_uri": "https://localhost:8080/"
        },
        "id": "K395mRhjn-mv",
        "outputId": "365959e3-6cc2-4ba5-c60c-6b48df8f7b18"
      },
      "execution_count": null,
      "outputs": [
        {
          "output_type": "execute_result",
          "data": {
            "text/plain": [
              "array([0.66666667, 1.        , 1.        , 1.        , 1.        ,\n",
              "       1.        , 0.66666667, 1.        , 1.        , 0.33333333,\n",
              "       1.        , 1.        , 1.        , 1.        , 1.        ,\n",
              "       1.        , 1.        , 1.        , 0.66666667, 1.        ,\n",
              "       1.        , 1.        , 0.66666667, 0.66666667, 1.        ,\n",
              "       1.        , 1.        , 0.66666667, 0.66666667, 1.        ,\n",
              "       0.66666667, 1.        , 1.        , 1.        , 1.        ,\n",
              "       1.        , 1.        , 0.66666667, 0.66666667, 1.        ,\n",
              "       0.66666667, 1.        , 1.        , 0.66666667, 1.        ,\n",
              "       1.        , 0.66666667])"
            ]
          },
          "metadata": {},
          "execution_count": 728
        }
      ]
    },
    {
      "cell_type": "markdown",
      "source": [
        "#### Модель ближайших соседей для 5 ближайших соседей:"
      ],
      "metadata": {
        "id": "1u1mSHVvn6xl"
      }
    },
    {
      "cell_type": "code",
      "source": [
        "model_5 = KNeighborsClassifier(n_neighbors = 5).fit(X_train, y_train)\n",
        "y_pred_5 = model_5.predict(X_test)"
      ],
      "metadata": {
        "colab": {
          "base_uri": "https://localhost:8080/"
        },
        "id": "basXowXml03I",
        "outputId": "97a45f91-dea0-4193-8e7c-ff01e83ba313"
      },
      "execution_count": null,
      "outputs": [
        {
          "output_type": "stream",
          "name": "stderr",
          "text": [
            "/usr/local/lib/python3.7/dist-packages/sklearn/neighbors/_classification.py:198: DataConversionWarning: A column-vector y was passed when a 1d array was expected. Please change the shape of y to (n_samples,), for example using ravel().\n",
            "  return self._fit(X, y)\n"
          ]
        }
      ]
    },
    {
      "cell_type": "code",
      "source": [
        "print(classification_report(y_test, y_pred_5))"
      ],
      "metadata": {
        "colab": {
          "base_uri": "https://localhost:8080/"
        },
        "id": "XfMtDjc_nFuS",
        "outputId": "e36c284d-569f-4493-88bc-b20eae15cd2f"
      },
      "execution_count": null,
      "outputs": [
        {
          "output_type": "stream",
          "name": "stdout",
          "text": [
            "              precision    recall  f1-score   support\n",
            "\n",
            "           0       0.00      0.00      0.00         3\n",
            "           1       0.94      1.00      0.97        44\n",
            "\n",
            "    accuracy                           0.94        47\n",
            "   macro avg       0.47      0.50      0.48        47\n",
            "weighted avg       0.88      0.94      0.91        47\n",
            "\n"
          ]
        },
        {
          "output_type": "stream",
          "name": "stderr",
          "text": [
            "/usr/local/lib/python3.7/dist-packages/sklearn/metrics/_classification.py:1318: UndefinedMetricWarning: Precision and F-score are ill-defined and being set to 0.0 in labels with no predicted samples. Use `zero_division` parameter to control this behavior.\n",
            "  _warn_prf(average, modifier, msg_start, len(result))\n",
            "/usr/local/lib/python3.7/dist-packages/sklearn/metrics/_classification.py:1318: UndefinedMetricWarning: Precision and F-score are ill-defined and being set to 0.0 in labels with no predicted samples. Use `zero_division` parameter to control this behavior.\n",
            "  _warn_prf(average, modifier, msg_start, len(result))\n",
            "/usr/local/lib/python3.7/dist-packages/sklearn/metrics/_classification.py:1318: UndefinedMetricWarning: Precision and F-score are ill-defined and being set to 0.0 in labels with no predicted samples. Use `zero_division` parameter to control this behavior.\n",
            "  _warn_prf(average, modifier, msg_start, len(result))\n"
          ]
        }
      ]
    },
    {
      "cell_type": "code",
      "source": [
        "p_pred_knn = model_5.predict_proba(X_test) \n",
        "p_pred_knn = p_pred_knn[:, 1]"
      ],
      "metadata": {
        "id": "pgmdI0ZZnQYt"
      },
      "execution_count": null,
      "outputs": []
    },
    {
      "cell_type": "code",
      "source": [
        "p_pred_knn"
      ],
      "metadata": {
        "colab": {
          "base_uri": "https://localhost:8080/"
        },
        "id": "OlauZ0I_n6rm",
        "outputId": "e393a277-ad99-47bd-a08c-a1199a75d612"
      },
      "execution_count": null,
      "outputs": [
        {
          "output_type": "execute_result",
          "data": {
            "text/plain": [
              "array([0.8, 1. , 0.8, 1. , 1. , 1. , 0.8, 1. , 1. , 0.6, 1. , 1. , 1. ,\n",
              "       1. , 1. , 1. , 1. , 1. , 0.8, 1. , 1. , 0.8, 0.8, 0.8, 1. , 1. ,\n",
              "       0.8, 0.8, 0.8, 1. , 0.8, 1. , 0.8, 1. , 1. , 1. , 1. , 0.8, 0.8,\n",
              "       1. , 0.8, 0.6, 1. , 0.8, 1. , 1. , 0.8])"
            ]
          },
          "metadata": {},
          "execution_count": 732
        }
      ]
    },
    {
      "cell_type": "markdown",
      "source": [
        "#### Модель ближайших соседей для 7 ближайших соседей:"
      ],
      "metadata": {
        "id": "NmXbuQbhn9Yn"
      }
    },
    {
      "cell_type": "code",
      "source": [
        "model_7 = KNeighborsClassifier(n_neighbors = 7).fit(X_train, y_train)\n",
        "y_pred_7 = model_7.predict(X_test)"
      ],
      "metadata": {
        "colab": {
          "base_uri": "https://localhost:8080/"
        },
        "id": "t2yAmGzRmU7O",
        "outputId": "93d631da-7c20-4ba9-f2d9-6cb95fcde9a9"
      },
      "execution_count": null,
      "outputs": [
        {
          "output_type": "stream",
          "name": "stderr",
          "text": [
            "/usr/local/lib/python3.7/dist-packages/sklearn/neighbors/_classification.py:198: DataConversionWarning: A column-vector y was passed when a 1d array was expected. Please change the shape of y to (n_samples,), for example using ravel().\n",
            "  return self._fit(X, y)\n"
          ]
        }
      ]
    },
    {
      "cell_type": "code",
      "source": [
        "print(classification_report(y_test, y_pred_7))"
      ],
      "metadata": {
        "colab": {
          "base_uri": "https://localhost:8080/"
        },
        "id": "QEOpDCk1nUcj",
        "outputId": "9c18e864-11bb-4330-8bf7-e180566b20bb"
      },
      "execution_count": null,
      "outputs": [
        {
          "output_type": "stream",
          "name": "stdout",
          "text": [
            "              precision    recall  f1-score   support\n",
            "\n",
            "           0       0.00      0.00      0.00         3\n",
            "           1       0.94      1.00      0.97        44\n",
            "\n",
            "    accuracy                           0.94        47\n",
            "   macro avg       0.47      0.50      0.48        47\n",
            "weighted avg       0.88      0.94      0.91        47\n",
            "\n"
          ]
        },
        {
          "output_type": "stream",
          "name": "stderr",
          "text": [
            "/usr/local/lib/python3.7/dist-packages/sklearn/metrics/_classification.py:1318: UndefinedMetricWarning: Precision and F-score are ill-defined and being set to 0.0 in labels with no predicted samples. Use `zero_division` parameter to control this behavior.\n",
            "  _warn_prf(average, modifier, msg_start, len(result))\n",
            "/usr/local/lib/python3.7/dist-packages/sklearn/metrics/_classification.py:1318: UndefinedMetricWarning: Precision and F-score are ill-defined and being set to 0.0 in labels with no predicted samples. Use `zero_division` parameter to control this behavior.\n",
            "  _warn_prf(average, modifier, msg_start, len(result))\n",
            "/usr/local/lib/python3.7/dist-packages/sklearn/metrics/_classification.py:1318: UndefinedMetricWarning: Precision and F-score are ill-defined and being set to 0.0 in labels with no predicted samples. Use `zero_division` parameter to control this behavior.\n",
            "  _warn_prf(average, modifier, msg_start, len(result))\n"
          ]
        }
      ]
    },
    {
      "cell_type": "code",
      "source": [
        "p_pred_knn = model_7.predict_proba(X_test) \n",
        "p_pred_knn = p_pred_knn[:, 1]"
      ],
      "metadata": {
        "id": "juYnL87_nepb"
      },
      "execution_count": null,
      "outputs": []
    },
    {
      "cell_type": "code",
      "source": [
        "p_pred_knn"
      ],
      "metadata": {
        "colab": {
          "base_uri": "https://localhost:8080/"
        },
        "id": "p7U8Qi8CoFH2",
        "outputId": "26b0797b-013c-41f3-db0f-b209c32732ae"
      },
      "execution_count": null,
      "outputs": [
        {
          "output_type": "execute_result",
          "data": {
            "text/plain": [
              "array([0.71428571, 0.85714286, 0.85714286, 1.        , 1.        ,\n",
              "       1.        , 0.85714286, 0.85714286, 1.        , 0.71428571,\n",
              "       0.85714286, 1.        , 0.85714286, 1.        , 0.85714286,\n",
              "       1.        , 1.        , 1.        , 0.71428571, 1.        ,\n",
              "       1.        , 0.85714286, 0.85714286, 0.71428571, 1.        ,\n",
              "       0.85714286, 0.85714286, 0.85714286, 0.85714286, 1.        ,\n",
              "       0.85714286, 1.        , 0.85714286, 1.        , 1.        ,\n",
              "       1.        , 1.        , 0.85714286, 0.71428571, 1.        ,\n",
              "       0.85714286, 0.71428571, 1.        , 0.71428571, 1.        ,\n",
              "       1.        , 0.85714286])"
            ]
          },
          "metadata": {},
          "execution_count": 736
        }
      ]
    },
    {
      "cell_type": "markdown",
      "metadata": {
        "id": "lxCntZwjfulT"
      },
      "source": [
        "Постройте метрики качества на тестовой выборке (3 известных вам) для моделей из 1 и 2 задания и сравните между собой. Какая победила? "
      ]
    },
    {
      "cell_type": "code",
      "execution_count": null,
      "metadata": {
        "id": "QLRxYKD6fulT",
        "colab": {
          "base_uri": "https://localhost:8080/"
        },
        "outputId": "e2bbba3a-a9b6-49d2-be72-780f0101e471"
      },
      "outputs": [
        {
          "output_type": "stream",
          "name": "stdout",
          "text": [
            "Naive -  Accuracy:  0.06382978723404255  Precision:  0.0  Recall:  0.0\n"
          ]
        },
        {
          "output_type": "stream",
          "name": "stderr",
          "text": [
            "/usr/local/lib/python3.7/dist-packages/sklearn/metrics/_classification.py:1318: UndefinedMetricWarning: Precision is ill-defined and being set to 0.0 due to no predicted samples. Use `zero_division` parameter to control this behavior.\n",
            "  _warn_prf(average, modifier, msg_start, len(result))\n"
          ]
        }
      ],
      "source": [
        "from sklearn.metrics import accuracy_score, precision_score, recall_score\n",
        "\n",
        "print(\"Naive -\" , \" Accuracy: \" , accuracy_score(y_test, y_naive) , \" Precision: \" , precision_score(y_test, y_naive) , \n",
        "      \" Recall: \" , recall_score(y_test, y_naive))"
      ]
    },
    {
      "cell_type": "code",
      "source": [
        "print(\"KNN 3 -\" , \" Accuracy: \" , accuracy_score(y_test, y_pred_3) , \" Precision: \" , precision_score(y_test, y_pred_3) , \n",
        "      \" Recall: \" , recall_score(y_test, y_pred_3))\n",
        "print(\"KNN 5 -\" , \" Accuracy: \" , accuracy_score(y_test, y_pred_5) , \" Precision: \" , precision_score(y_test, y_pred_5) , \n",
        "      \" Recall: \" , recall_score(y_test, y_pred_5))\n",
        "print(\"KNN 7 -\" , \" Accuracy: \" , accuracy_score(y_test, y_pred_7) , \" Precision: \" , precision_score(y_test, y_pred_7) , \n",
        "      \" Recall: \" , recall_score(y_test, y_pred_7))"
      ],
      "metadata": {
        "colab": {
          "base_uri": "https://localhost:8080/"
        },
        "id": "0clN82J9oSRI",
        "outputId": "c16e7a1c-db9e-4dd7-a681-2ec0936da814"
      },
      "execution_count": null,
      "outputs": [
        {
          "output_type": "stream",
          "name": "stdout",
          "text": [
            "KNN 3 -  Accuracy:  0.9148936170212766  Precision:  0.9347826086956522  Recall:  0.9772727272727273\n",
            "KNN 5 -  Accuracy:  0.9361702127659575  Precision:  0.9361702127659575  Recall:  1.0\n",
            "KNN 7 -  Accuracy:  0.9361702127659575  Precision:  0.9361702127659575  Recall:  1.0\n"
          ]
        }
      ]
    },
    {
      "cell_type": "markdown",
      "source": [
        "Заметим, что accuracy KNN модели (для 3, 5 и 7 соседей) гораздо выше 💪 наивной модели, поэтому **метод KNN - ближайших соседей победил** 😉 в данном противостоянии."
      ],
      "metadata": {
        "id": "cQ9WZBXiocSs"
      }
    },
    {
      "cell_type": "markdown",
      "metadata": {
        "id": "Pss9aiyRfulT"
      },
      "source": [
        "Применим шкалирование (MinMax, обучите его на обучающей выборке к факторам, затем примените к тестовой), снова построим модели для нескольких вариантов соседей (3, 5, 7). Помогло ли шкалирование? "
      ]
    },
    {
      "cell_type": "code",
      "execution_count": null,
      "metadata": {
        "id": "p7fdnpU7fulT"
      },
      "outputs": [],
      "source": [
        "from sklearn.preprocessing import MinMaxScaler\n",
        "\n",
        "scaler = MinMaxScaler().fit(X_train)"
      ]
    },
    {
      "cell_type": "code",
      "source": [
        "X_train_norm = scaler.transform(X_train) \n",
        "X_test_norm = scaler.transform(X_test)"
      ],
      "metadata": {
        "id": "baomxo1QqscI"
      },
      "execution_count": null,
      "outputs": []
    },
    {
      "cell_type": "code",
      "source": [
        "model_3_norm = KNeighborsClassifier(n_neighbors = 3).fit(X_train_norm, y_train)\n",
        "y_pred_knn_3_norm = model_3_norm.predict(X_test_norm)"
      ],
      "metadata": {
        "colab": {
          "base_uri": "https://localhost:8080/"
        },
        "id": "PJE13-VpqVeF",
        "outputId": "740804b4-e3c4-4f1e-9f75-91a64a5c99db"
      },
      "execution_count": null,
      "outputs": [
        {
          "output_type": "stream",
          "name": "stderr",
          "text": [
            "/usr/local/lib/python3.7/dist-packages/sklearn/neighbors/_classification.py:198: DataConversionWarning: A column-vector y was passed when a 1d array was expected. Please change the shape of y to (n_samples,), for example using ravel().\n",
            "  return self._fit(X, y)\n"
          ]
        }
      ]
    },
    {
      "cell_type": "code",
      "source": [
        "print(\"KNN 3 -\" , \" Accuracy: \" , accuracy_score(y_test, y_pred_knn_3_norm) , \" Precision: \" , precision_score(y_test, y_pred_knn_3_norm) , \n",
        "      \" Recall: \" , recall_score(y_test, y_pred_knn_3_norm))"
      ],
      "metadata": {
        "colab": {
          "base_uri": "https://localhost:8080/"
        },
        "id": "DVyya142qlF4",
        "outputId": "c9611703-808f-4ca2-e30d-5f4ee843bb45"
      },
      "execution_count": null,
      "outputs": [
        {
          "output_type": "stream",
          "name": "stdout",
          "text": [
            "KNN 3 -  Accuracy:  0.8936170212765957  Precision:  0.9333333333333333  Recall:  0.9545454545454546\n"
          ]
        }
      ]
    },
    {
      "cell_type": "markdown",
      "source": [
        "Шкалирование для 3 ближайших соседей не сыграло роли 😲, а наоборот ухудшило точность модели 😞 => не стоит его использовать в данной задаче."
      ],
      "metadata": {
        "id": "293qxWqlrV7U"
      }
    },
    {
      "cell_type": "code",
      "source": [
        "model_5_norm = KNeighborsClassifier(n_neighbors = 5).fit(X_train_norm, y_train)\n",
        "y_pred_knn_5_norm = model_5_norm.predict(X_test_norm)"
      ],
      "metadata": {
        "colab": {
          "base_uri": "https://localhost:8080/"
        },
        "id": "K1oazfAkqfJl",
        "outputId": "11a21631-37cb-44ef-9cea-0f46c11a0e14"
      },
      "execution_count": null,
      "outputs": [
        {
          "output_type": "stream",
          "name": "stderr",
          "text": [
            "/usr/local/lib/python3.7/dist-packages/sklearn/neighbors/_classification.py:198: DataConversionWarning: A column-vector y was passed when a 1d array was expected. Please change the shape of y to (n_samples,), for example using ravel().\n",
            "  return self._fit(X, y)\n"
          ]
        }
      ]
    },
    {
      "cell_type": "code",
      "source": [
        "print(\"KNN 5 -\" , \" Accuracy: \" , accuracy_score(y_test, y_pred_knn_5_norm) , \" Precision: \" , precision_score(y_test, y_pred_knn_5_norm) , \n",
        "      \" Recall: \" , recall_score(y_test, y_pred_knn_5_norm))"
      ],
      "metadata": {
        "colab": {
          "base_uri": "https://localhost:8080/"
        },
        "id": "XoUwnFq9qlpl",
        "outputId": "2a5f2d0b-3d97-4bb8-8c8f-d7d2bdb27fbf"
      },
      "execution_count": null,
      "outputs": [
        {
          "output_type": "stream",
          "name": "stdout",
          "text": [
            "KNN 5 -  Accuracy:  0.9361702127659575  Precision:  0.9361702127659575  Recall:  1.0\n"
          ]
        }
      ]
    },
    {
      "cell_type": "code",
      "source": [
        "model_7_norm = KNeighborsClassifier(n_neighbors = 7).fit(X_train_norm, y_train)\n",
        "y_pred_knn_7_norm = model_7_norm.predict(X_test_norm)"
      ],
      "metadata": {
        "colab": {
          "base_uri": "https://localhost:8080/"
        },
        "id": "rN-93Njdqe6t",
        "outputId": "52631369-2fe3-4f7f-a095-b567fb3381a1"
      },
      "execution_count": null,
      "outputs": [
        {
          "output_type": "stream",
          "name": "stderr",
          "text": [
            "/usr/local/lib/python3.7/dist-packages/sklearn/neighbors/_classification.py:198: DataConversionWarning: A column-vector y was passed when a 1d array was expected. Please change the shape of y to (n_samples,), for example using ravel().\n",
            "  return self._fit(X, y)\n"
          ]
        }
      ]
    },
    {
      "cell_type": "code",
      "source": [
        "print(\"KNN 7 -\" , \" Accuracy: \" , accuracy_score(y_test, y_pred_knn_7_norm) , \" Precision: \" , precision_score(y_test, y_pred_knn_7_norm) , \n",
        "      \" Recall: \" , recall_score(y_test, y_pred_knn_7_norm))"
      ],
      "metadata": {
        "colab": {
          "base_uri": "https://localhost:8080/"
        },
        "id": "DbOfBJWHqeyg",
        "outputId": "73a2b1f2-2543-4999-da91-112321641369"
      },
      "execution_count": null,
      "outputs": [
        {
          "output_type": "stream",
          "name": "stdout",
          "text": [
            "KNN 7 -  Accuracy:  0.9361702127659575  Precision:  0.9361702127659575  Recall:  1.0\n"
          ]
        }
      ]
    },
    {
      "cell_type": "markdown",
      "metadata": {
        "id": "Ex1zMywVfulT"
      },
      "source": [
        "Избавьтесь от выбросов в исходной выборке, затем снова разделите ее на тестовую и обучающую, постройте модель для нескольких вариантов числа соседей(3, 5, 7). Какое число соседей лучшее и почему? Улучшилось ли качество модели по сравнению со лучшей моделью, в которой было применено шкалирование из задания 5?"
      ]
    },
    {
      "cell_type": "code",
      "source": [
        "X.apply(lambda w: np.log(w + 1))\n",
        "\n",
        "X_train, X_test, y_train, y_test = train_test_split(X, y, test_size = 0.2, random_state = 42)"
      ],
      "metadata": {
        "id": "wZW1KU8SZSc6"
      },
      "execution_count": null,
      "outputs": []
    },
    {
      "cell_type": "code",
      "source": [
        "model_3 = KNeighborsClassifier(n_neighbors = 3).fit(X_train, y_train)\n",
        "y_pred_knn_3 = model_3.predict(X_test)"
      ],
      "metadata": {
        "colab": {
          "base_uri": "https://localhost:8080/"
        },
        "id": "3nk0W5b3XfyL",
        "outputId": "b46f1dde-9de9-4b23-be59-01cd94887841"
      },
      "execution_count": null,
      "outputs": [
        {
          "output_type": "stream",
          "name": "stderr",
          "text": [
            "/usr/local/lib/python3.7/dist-packages/sklearn/neighbors/_classification.py:198: DataConversionWarning: A column-vector y was passed when a 1d array was expected. Please change the shape of y to (n_samples,), for example using ravel().\n",
            "  return self._fit(X, y)\n"
          ]
        }
      ]
    },
    {
      "cell_type": "code",
      "source": [
        "print(\"KNN 3 -\" , \" Accuracy: \" , accuracy_score(y_test, y_pred_knn_3) , \" Precision: \" , precision_score(y_test, y_pred_knn_3) , \n",
        "      \" Recall: \" , recall_score(y_test, y_pred_knn_3))"
      ],
      "metadata": {
        "colab": {
          "base_uri": "https://localhost:8080/"
        },
        "id": "3fJTrvATr90h",
        "outputId": "35c50d15-0416-4031-8c71-f50326dd96f6"
      },
      "execution_count": null,
      "outputs": [
        {
          "output_type": "stream",
          "name": "stdout",
          "text": [
            "KNN 3 -  Accuracy:  0.9148936170212766  Precision:  0.9347826086956522  Recall:  0.9772727272727273\n"
          ]
        }
      ]
    },
    {
      "cell_type": "code",
      "source": [
        "model_5 = KNeighborsClassifier(n_neighbors = 5).fit(X_train, y_train)\n",
        "y_pred_knn_5 = model_5.predict(X_test)"
      ],
      "metadata": {
        "colab": {
          "base_uri": "https://localhost:8080/"
        },
        "id": "bH9Yo99dr4ET",
        "outputId": "d38c564a-560f-4f4d-cfe3-0b0d3c0c61d0"
      },
      "execution_count": null,
      "outputs": [
        {
          "output_type": "stream",
          "name": "stderr",
          "text": [
            "/usr/local/lib/python3.7/dist-packages/sklearn/neighbors/_classification.py:198: DataConversionWarning: A column-vector y was passed when a 1d array was expected. Please change the shape of y to (n_samples,), for example using ravel().\n",
            "  return self._fit(X, y)\n"
          ]
        }
      ]
    },
    {
      "cell_type": "code",
      "source": [
        "print(\"KNN 5 -\" , \" Accuracy: \" , accuracy_score(y_test, y_pred_knn_5) , \" Precision: \" , precision_score(y_test, y_pred_knn_5) , \n",
        "      \" Recall: \" , recall_score(y_test, y_pred_knn_5))"
      ],
      "metadata": {
        "colab": {
          "base_uri": "https://localhost:8080/"
        },
        "id": "ugB_HqozsFCC",
        "outputId": "1e06e72e-3ea1-417c-a0db-081218b55046"
      },
      "execution_count": null,
      "outputs": [
        {
          "output_type": "stream",
          "name": "stdout",
          "text": [
            "KNN 5 -  Accuracy:  0.9361702127659575  Precision:  0.9361702127659575  Recall:  1.0\n"
          ]
        }
      ]
    },
    {
      "cell_type": "code",
      "source": [
        "model_7 = KNeighborsClassifier(n_neighbors = 7).fit(X_train, y_train)\n",
        "y_pred_knn_7 = model_7.predict(X_test)"
      ],
      "metadata": {
        "colab": {
          "base_uri": "https://localhost:8080/"
        },
        "id": "iCuXX_hIr30F",
        "outputId": "aab90140-decc-4594-f70f-25e07496dd99"
      },
      "execution_count": null,
      "outputs": [
        {
          "output_type": "stream",
          "name": "stderr",
          "text": [
            "/usr/local/lib/python3.7/dist-packages/sklearn/neighbors/_classification.py:198: DataConversionWarning: A column-vector y was passed when a 1d array was expected. Please change the shape of y to (n_samples,), for example using ravel().\n",
            "  return self._fit(X, y)\n"
          ]
        }
      ]
    },
    {
      "cell_type": "code",
      "source": [
        "print(\"KNN 7 -\" , \" Accuracy: \" , accuracy_score(y_test, y_pred_knn_7) , \" Precision: \" , precision_score(y_test, y_pred_knn_7) , \n",
        "      \" Recall: \" , recall_score(y_test, y_pred_knn_7))"
      ],
      "metadata": {
        "colab": {
          "base_uri": "https://localhost:8080/"
        },
        "id": "YoPdkbLOr3hZ",
        "outputId": "23b81f47-2b56-40a9-aff3-f2653a015b43"
      },
      "execution_count": null,
      "outputs": [
        {
          "output_type": "stream",
          "name": "stdout",
          "text": [
            "KNN 7 -  Accuracy:  0.9361702127659575  Precision:  0.9361702127659575  Recall:  1.0\n"
          ]
        }
      ]
    },
    {
      "cell_type": "markdown",
      "metadata": {
        "id": "clJ-u-d9fulU"
      },
      "source": [
        "Какая конфигурация модели получилась лучшей? Почему? Выбираем из всех построенных моделей, не забудьте про наивный прогноз и все рассмотренне варианты числа соседей. "
      ]
    },
    {
      "cell_type": "markdown",
      "source": [
        "Вывод: можно принебречь использованием шкалирования ✋, оно привело к ухудшению 😞 метрики качества нашей модели как и наивный байес 👎 в принципе. \n",
        "\n",
        "- Шкалирование применется совместно с уменьшением размерности - PCA. \n",
        "- Применяется шкалирование и с использованием методов, основанных на подсчёте расстояний (K-means) + градиентный спуск. \n",
        "\n",
        "Говоря о **результатах**: *Модели с кол-вом соседей 5 и 7* проявили себя лучше всего 🤲 на всех проделанных экспериментах 🔮, ссылаясь на их **точность**"
      ],
      "metadata": {
        "id": "1neu7BWCvxAB"
      }
    }
  ],
  "metadata": {
    "kernelspec": {
      "display_name": "Python 3",
      "language": "python",
      "name": "python3"
    },
    "language_info": {
      "codemirror_mode": {
        "name": "ipython",
        "version": 3
      },
      "file_extension": ".py",
      "mimetype": "text/x-python",
      "name": "python",
      "nbconvert_exporter": "python",
      "pygments_lexer": "ipython3",
      "version": "3.8.3"
    },
    "colab": {
      "name": "KNN task.ipynb",
      "provenance": [],
      "collapsed_sections": []
    }
  },
  "nbformat": 4,
  "nbformat_minor": 0
}